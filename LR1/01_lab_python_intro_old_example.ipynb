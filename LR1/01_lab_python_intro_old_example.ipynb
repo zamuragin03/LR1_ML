{
 "cells": [
  {
   "cell_type": "markdown",
   "id": "596b4987",
   "metadata": {},
   "source": [
    "# Лабораторная работа №1\n",
    "\n",
    "ФИО:   Замурагин Игорь Михайлович \n",
    "\n",
    "Группа: БИВТ-21-4\n",
    "\n",
    "\n",
    "Отправлять можно следующими способами:\n",
    "1. Создать **приватный** репозиторий на github, добавить меня по нику (l3lush) в Collaborators (Settings -> Collaborators -> Add people)\n",
    "2. Отправить заполненный ноутбук мне на почту avmysh@gmail.com, либо m1603956@edu.misis.ru\n",
    "3. Отправить заполненный ноутбук мне в тг @l3lush. \n",
    "\n",
    "Deadlines:\n",
    "- soft -- **05.03.2023 23:59** (за сдачу в пределах этого времени +1 балл в табличку)\n",
    "- hard -- **19.03.2023 23:59**\n",
    "\n",
    "Что необходимо сделать:\n",
    "1. Заполнить все ячейки ниже кодом так, чтобы прошли все `assert`ы."
   ]
  },
  {
   "cell_type": "markdown",
   "id": "2213731a",
   "metadata": {},
   "source": [
    "# 0. Пример работы assert"
   ]
  },
  {
   "cell_type": "markdown",
   "id": "0dcee059",
   "metadata": {},
   "source": [
    "`assert` предназначен для проверки каких-либо условий.  \n",
    "Если условие истинно (возвращается `True`), код выполняется без ошибок, в противном случае выходит `AssertionError`.  <br />\n",
    "Ниже пример работы `assert`ов (в ячейке с примером `assert a > 6` можно оставить ошибку, но нигде далее в коде ошибок быть **не должно**)    <br />\n",
    "P.S. `assert`ы менять никак **нельзя**"
   ]
  },
  {
   "cell_type": "code",
   "execution_count": 39,
   "id": "31be897b",
   "metadata": {},
   "outputs": [],
   "source": [
    "a = 5\n",
    "assert a == 5  # assert проходит, т.к. a равно 0"
   ]
  },
  {
   "cell_type": "code",
   "execution_count": 40,
   "id": "139c9ca8",
   "metadata": {},
   "outputs": [
    {
     "ename": "AssertionError",
     "evalue": "",
     "output_type": "error",
     "traceback": [
      "\u001b[0;31m---------------------------------------------------------------------------\u001b[0m",
      "\u001b[0;31mAssertionError\u001b[0m                            Traceback (most recent call last)",
      "Cell \u001b[0;32mIn[40], line 1\u001b[0m\n\u001b[0;32m----> 1\u001b[0m \u001b[38;5;28;01massert\u001b[39;00m a \u001b[38;5;241m>\u001b[39m \u001b[38;5;241m6\u001b[39m  \u001b[38;5;66;03m# assert не проходит, т.к. а не больше 6, выпадает ошибка\u001b[39;00m\n",
      "\u001b[0;31mAssertionError\u001b[0m: "
     ]
    }
   ],
   "source": [
    "assert a > 6  # assert не проходит, т.к. а не больше 6, выпадает ошибка"
   ]
  },
  {
   "cell_type": "markdown",
   "id": "a72f14da",
   "metadata": {},
   "source": [
    "# 1. Базовые типы переменных"
   ]
  },
  {
   "cell_type": "markdown",
   "id": "ccfb5acf",
   "metadata": {},
   "source": [
    "Создайте переменные так, чтобы они были объектами определенного типа (типы приведены в комментариях)."
   ]
  },
  {
   "cell_type": "code",
   "execution_count": null,
   "id": "e88c14eb",
   "metadata": {},
   "outputs": [],
   "source": [
    "int_variable = 4\n",
    "assert isinstance(int_variable, int)"
   ]
  },
  {
   "cell_type": "code",
   "execution_count": null,
   "id": "db46e8d6",
   "metadata": {},
   "outputs": [],
   "source": [
    "int_variable = 1  # int\n",
    "assert isinstance(int_variable, int)\n",
    "from math import pi\n",
    "float_variable = pi  # float\n",
    "assert isinstance(float_variable, float)\n",
    "\n",
    "string_variable = 'print(\"hello world\")'  # string\n",
    "assert isinstance(string_variable, str)\n",
    "\n",
    "bool_variable = 1==1  # bool\n",
    "assert isinstance(bool_variable, bool)"
   ]
  },
  {
   "cell_type": "code",
   "execution_count": null,
   "id": "ed1861a0",
   "metadata": {},
   "outputs": [],
   "source": [
    "list_variable = []  # list\n",
    "assert isinstance(list_variable, list)\n",
    "\n",
    "tuple_variable = (1,1)  # tuple\n",
    "assert isinstance(tuple_variable, tuple)\n",
    "\n",
    "set_variable = set([1,2,3,4])  # set\n",
    "assert isinstance(set_variable, set)\n",
    "\n",
    "dict_variable = {1:1}  # dict\n",
    "assert isinstance(dict_variable, dict)"
   ]
  },
  {
   "cell_type": "markdown",
   "id": "52830470",
   "metadata": {},
   "source": [
    "# 2. Различные функции"
   ]
  },
  {
   "cell_type": "code",
   "execution_count": null,
   "id": "3eb16cbe",
   "metadata": {},
   "outputs": [],
   "source": [
    "def difference_of_two_numbers(first, second):\n",
    "    return first-second\n",
    "\n",
    "\n",
    "assert difference_of_two_numbers(2, 1) == 1\n",
    "assert difference_of_two_numbers(4, 1) == 3\n",
    "assert difference_of_two_numbers(10, 0) == 10\n",
    "assert difference_of_two_numbers(-5, -6) == 1"
   ]
  },
  {
   "cell_type": "code",
   "execution_count": null,
   "id": "65ff4881",
   "metadata": {},
   "outputs": [],
   "source": [
    "def condition_function(input_number):\n",
    "    if input_number <= 0:\n",
    "        return input_number*2\n",
    "    elif input_number > 0 and input_number <= 10:\n",
    "        return input_number*3\n",
    "    return input_number/10\n",
    "\n",
    "    \"\"\"\n",
    "    Если входное число меньше либо равно 0, то умножить его на 2.\n",
    "    В противном случае, если число больше 0, но меньше или равно 10, умножить на 3.\n",
    "    Во всех прочих случаях поделить на 10\n",
    "    \"\"\"\n",
    "\n",
    "\n",
    "\n",
    "assert condition_function(0) == 0\n",
    "assert condition_function(-1) == -2\n",
    "assert condition_function(1) == 3\n",
    "assert condition_function(10) == 30\n",
    "assert condition_function(11) == 1.1\n",
    "assert condition_function(20) == 2"
   ]
  },
  {
   "cell_type": "code",
   "execution_count": null,
   "id": "51264059",
   "metadata": {},
   "outputs": [],
   "source": [
    "def calculator(number_1, operation, number_2):\n",
    "    dict = {\n",
    "        '*': number_1*number_2,\n",
    "        '-': number_1-number_2,\n",
    "        '+': number_1+number_2,\n",
    "        '/': number_1/number_2\n",
    "    }\n",
    "    return dict[operation]\n",
    "    \"\"\"\n",
    "    Простой оператор, способный выполнять операции +, -, *, /.\n",
    "    На входе первое число, операция в виде строки и второе число.\n",
    "    \n",
    "    Пример: \n",
    "    >>> calculator(1, \"+\", 1)\n",
    "    >>> 2\n",
    "    \"\"\"\n",
    "    # TODO: напиши меня\n",
    "    pass\n",
    "\n",
    "\n",
    "assert calculator(1, \"+\", 2) == 3\n",
    "assert calculator(3, \"-\", 1) == 2\n",
    "assert calculator(4, \"*\", 3) == 12\n",
    "assert calculator(2, \"/\", 2) == 1"
   ]
  },
  {
   "cell_type": "code",
   "execution_count": null,
   "id": "02255ff4",
   "metadata": {},
   "outputs": [],
   "source": [
    "def number_of_unique_elements(input_list):\n",
    "    \"\"\"\n",
    "    Считает количество уникальных элементов в листе.\n",
    "    \"\"\"\n",
    "    # TODO: напиши меня\n",
    "    return len(set(input_list))\n",
    "\n",
    "\n",
    "assert number_of_unique_elements([1, 2, 3]) == 3\n",
    "assert number_of_unique_elements([1] * 93) == 1\n",
    "assert number_of_unique_elements(list(range(1000))) == 1000"
   ]
  },
  {
   "cell_type": "code",
   "execution_count": null,
   "id": "2a2a2363",
   "metadata": {},
   "outputs": [],
   "source": [
    "def counter(input_list: list):\n",
    "    \"\"\"\n",
    "    Считает количество вхождений каждого из элементов листа.\n",
    "    Возвращает словарь вида {число: количество вхождений}\n",
    "\n",
    "    Замечание (!): встроенным в collections Counter'ом пользоваться нельзя\n",
    "\n",
    "    Например:\n",
    "    counter([1, 1, 2, 3]) вернет {1: 2, 2: 1, 3: 1}\n",
    "    \"\"\"\n",
    "    unique_dict = {el: 0 for el in input_list}\n",
    "    for el in input_list:\n",
    "        if el in input_list:\n",
    "            unique_dict[el] += 1\n",
    "    return unique_dict\n",
    "\n",
    "\n",
    "assert counter([1, 1, 1, 2, 3]) == {1: 3, 2: 1, 3: 1}\n",
    "assert counter([1] * 1000) == {1: 1000}\n",
    "assert counter([1, 3, 5] * 100) == {1: 100, 3: 100, 5: 100}"
   ]
  },
  {
   "cell_type": "code",
   "execution_count": null,
   "id": "c1498018",
   "metadata": {},
   "outputs": [],
   "source": [
    "def multiply_nums(input_string):\n",
    "    \"\"\"\n",
    "    Перемножить числа, переданные в строке, перечисленные через запятую.\n",
    "\n",
    "    hint: можно использовать метод .split()\n",
    "    \"\"\"\n",
    "    # TODO: напиши меня\n",
    "    res = 1\n",
    "    for el in  input_string.split(', '):\n",
    "        res*=float(el)\n",
    "    return res\n",
    "\n",
    "\n",
    "\n",
    "assert multiply_nums(\"2, 3\") == 6\n",
    "assert multiply_nums(\"1, 1, 1, 1, 1, 1, 1\") == 1\n",
    "assert multiply_nums(\"345, 4576, 794, 325, 0\") == 0"
   ]
  },
  {
   "cell_type": "markdown",
   "id": "202c838a",
   "metadata": {},
   "source": [
    "Реализуйте следующую функцию:\n",
    "$$\n",
    "y = sin(x)\\cdot cos(x)\n",
    "$$\n",
    "P.S. используйте библиотеку `math`"
   ]
  },
  {
   "cell_type": "code",
   "execution_count": null,
   "id": "4121596c",
   "metadata": {},
   "outputs": [],
   "source": [
    "from math import cos,sin\n",
    "def custom_function(x):\n",
    "    \"\"\"\n",
    "    Реализуйте функцию, описанную выше.\n",
    "    \"\"\"\n",
    "    # TODO: напиши меня\n",
    "    return sin(x)*cos(x)\n",
    "\n",
    "assert round(custom_function(1), 3) == 0.455\n",
    "assert round(custom_function(1.5), 3) == 0.071\n",
    "assert round(custom_function(2), 3) == -0.378\n",
    "assert custom_function(0) == 0"
   ]
  },
  {
   "cell_type": "markdown",
   "id": "7a2210d6",
   "metadata": {},
   "source": [
    "Реализуйте следующую функцию:\n",
    "$$\n",
    "y = \\prod\\limits_{n = 1}^n \\frac{(n+2)^x + ln(x)}{x^2 + 4n}\n",
    "$$\n",
    "P.S. используйте библиотеку `math`"
   ]
  },
  {
   "cell_type": "code",
   "execution_count": null,
   "id": "b4698ba6",
   "metadata": {},
   "outputs": [],
   "source": [
    "from math import log\n",
    "\n",
    "\n",
    "def custom_function_1(x, n):\n",
    "    \"\"\"\n",
    "    Реализуйте функцию, описанную выше.\n",
    "    \"\"\"\n",
    "    # TODO: напиши меня\n",
    "    res = 1\n",
    "    for i in range(1, n+1):\n",
    "        res *= ((i+2)**x + log(x))/(x**2+4*i)\n",
    "    return res\n",
    "\n",
    "\n",
    "assert round(custom_function_1(2, 3), 3) == 2.707\n",
    "assert round(custom_function_1(3, 2), 3) == 8.277\n",
    "assert round(custom_function_1(3, 3), 3) == 49.7"
   ]
  },
  {
   "cell_type": "code",
   "execution_count": null,
   "id": "b9a4db60",
   "metadata": {},
   "outputs": [],
   "source": [
    "class MyList:\n",
    "    def __init__(self,my_list):\n",
    "        self.my_list=my_list\n",
    "\n",
    "    def return_sum(self):\n",
    "        sum = 0\n",
    "        for el in self.my_list:\n",
    "            sum+=el\n",
    "        return sum\n",
    "        \"\"\"\n",
    "        Возвращает сумму всех элементов сохраненного листа.\n",
    "        Пользоваться sum нельзя!\n",
    "        \"\"\"\n",
    "        # TODO: напиши меня\n",
    "        pass\n",
    "\n",
    "    def make_reverse(self):\n",
    "        \"\"\"\n",
    "        Разворачивает сохраненный лист.\n",
    "        \"\"\"\n",
    "        # TODO: напиши меня\n",
    "        return list(reversed( self.my_list))\n",
    "\n",
    "    def make_slice(self, start, stop):\n",
    "        \"\"\"\n",
    "        Делает слайсинг сохраненного листа.\n",
    "        \"\"\"\n",
    "        # TODO: напиши меня\n",
    "        return self.my_list[start:stop]\n",
    "\n",
    "\n",
    "a = MyList([1, 2, 3, 4])\n",
    "assert a.return_sum() == 10\n",
    "assert a.make_reverse() == [4, 3, 2, 1]\n",
    "assert a.make_slice(0, 2) == [1, 2]\n",
    "\n",
    "b = MyList([5, 6, 6, 5])\n",
    "assert b.return_sum() == 22\n",
    "assert b.make_reverse() == [5, 6, 6, 5]\n",
    "assert b.make_slice(1, 2) == [6]"
   ]
  },
  {
   "cell_type": "code",
   "execution_count": null,
   "id": "438f64eb",
   "metadata": {},
   "outputs": [],
   "source": []
  }
 ],
 "metadata": {
  "kernelspec": {
   "display_name": "Python 3 (ipykernel)",
   "language": "python",
   "name": "python3"
  },
  "language_info": {
   "codemirror_mode": {
    "name": "ipython",
    "version": 3
   },
   "file_extension": ".py",
   "mimetype": "text/x-python",
   "name": "python",
   "nbconvert_exporter": "python",
   "pygments_lexer": "ipython3",
   "version": "3.11.1"
  }
 },
 "nbformat": 4,
 "nbformat_minor": 5
}
