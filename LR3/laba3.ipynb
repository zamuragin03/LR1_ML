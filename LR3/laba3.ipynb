{
 "cells": [
  {
   "cell_type": "code",
   "execution_count": 2,
   "metadata": {},
   "outputs": [],
   "source": [
    "import numpy as np\n",
    "import pandas as pd\n",
    "from sklearn.model_selection import train_test_split\n",
    "from sklearn.preprocessing import StandardScaler\n",
    "import matplotlib.pyplot as plt\n"
   ]
  },
  {
   "cell_type": "code",
   "execution_count": 3,
   "metadata": {},
   "outputs": [
    {
     "name": "stdout",
     "output_type": "stream",
     "text": [
      "track_name              816\n",
      "artist(s)_name          816\n",
      "artist_count            816\n",
      "released_year           816\n",
      "released_month          816\n",
      "released_day            816\n",
      "in_spotify_playlists    816\n",
      "in_spotify_charts       816\n",
      "streams                 816\n",
      "in_apple_playlists      816\n",
      "in_apple_charts         816\n",
      "in_deezer_playlists     816\n",
      "in_deezer_charts        816\n",
      "in_shazam_charts        816\n",
      "bpm                     816\n",
      "key                     816\n",
      "mode                    816\n",
      "danceability_%          816\n",
      "valence_%               816\n",
      "energy_%                816\n",
      "acousticness_%          816\n",
      "instrumentalness_%      816\n",
      "liveness_%              816\n",
      "speechiness_%           816\n",
      "dtype: int64\n"
     ]
    }
   ],
   "source": [
    "\n",
    "import chardet\n",
    "path = '../LR2/spotify-2023.csv'\n",
    "with open(path, 'rb') as f:\n",
    "    result = chardet.detect(f.read())\n",
    "    encoding = result['encoding']\n",
    "\n",
    "data = pd.read_csv(path, encoding=encoding)\n",
    "data = data.drop(574)\n",
    "data = data.dropna()\n",
    "print(data.count());"
   ]
  },
  {
   "cell_type": "markdown",
   "metadata": {},
   "source": [
    "# Было решено предсказывать danceability"
   ]
  },
  {
   "cell_type": "markdown",
   "metadata": {},
   "source": [
    "## Задание 2\n",
    "\n",
    "### ввиду того, что предсказываем процент danceability, то очевдно, что это задача регрессии"
   ]
  },
  {
   "cell_type": "code",
   "execution_count": 4,
   "metadata": {},
   "outputs": [
    {
     "name": "stderr",
     "output_type": "stream",
     "text": [
      "/var/folders/tf/4vf66cxs0f747m9rb3jpvyhc0000gn/T/ipykernel_23188/1403072990.py:4: SettingWithCopyWarning: \n",
      "A value is trying to be set on a copy of a slice from a DataFrame.\n",
      "Try using .loc[row_indexer,col_indexer] = value instead\n",
      "\n",
      "See the caveats in the documentation: https://pandas.pydata.org/pandas-docs/stable/user_guide/indexing.html#returning-a-view-versus-a-copy\n",
      "  X['streams']=X['streams'].astype(float)\n",
      "/var/folders/tf/4vf66cxs0f747m9rb3jpvyhc0000gn/T/ipykernel_23188/1403072990.py:5: SettingWithCopyWarning: \n",
      "A value is trying to be set on a copy of a slice from a DataFrame.\n",
      "Try using .loc[row_indexer,col_indexer] = value instead\n",
      "\n",
      "See the caveats in the documentation: https://pandas.pydata.org/pandas-docs/stable/user_guide/indexing.html#returning-a-view-versus-a-copy\n",
      "  X['artist_count']=X['artist_count'].astype(float)\n",
      "/var/folders/tf/4vf66cxs0f747m9rb3jpvyhc0000gn/T/ipykernel_23188/1403072990.py:6: SettingWithCopyWarning: \n",
      "A value is trying to be set on a copy of a slice from a DataFrame.\n",
      "Try using .loc[row_indexer,col_indexer] = value instead\n",
      "\n",
      "See the caveats in the documentation: https://pandas.pydata.org/pandas-docs/stable/user_guide/indexing.html#returning-a-view-versus-a-copy\n",
      "  X['released_year']=X['released_year'].astype(float)\n",
      "/var/folders/tf/4vf66cxs0f747m9rb3jpvyhc0000gn/T/ipykernel_23188/1403072990.py:7: SettingWithCopyWarning: \n",
      "A value is trying to be set on a copy of a slice from a DataFrame.\n",
      "Try using .loc[row_indexer,col_indexer] = value instead\n",
      "\n",
      "See the caveats in the documentation: https://pandas.pydata.org/pandas-docs/stable/user_guide/indexing.html#returning-a-view-versus-a-copy\n",
      "  X['in_apple_playlists']=X['in_apple_playlists'].astype(float)\n"
     ]
    }
   ],
   "source": [
    "selected_features = ['artist_count', 'released_year', 'streams', 'in_apple_playlists']\n",
    "target_variable = 'danceability_%'\n",
    "X = data[selected_features]\n",
    "X['streams']=X['streams'].astype(float)\n",
    "X['artist_count']=X['artist_count'].astype(float)\n",
    "X['released_year']=X['released_year'].astype(float)\n",
    "X['in_apple_playlists']=X['in_apple_playlists'].astype(float)\n",
    "Y = data[target_variable]"
   ]
  },
  {
   "cell_type": "code",
   "execution_count": 5,
   "metadata": {},
   "outputs": [],
   "source": [
    "\n",
    "X_train, X_test, y_train, y_test = train_test_split(X, Y, test_size=0.2, random_state=17)"
   ]
  },
  {
   "cell_type": "code",
   "execution_count": 6,
   "metadata": {},
   "outputs": [],
   "source": [
    "scaler = StandardScaler()\n",
    "\n",
    "X_train_scaled = scaler.fit_transform(X_train[selected_features])\n",
    "\n",
    "X_test_scaled = scaler.transform(X_test[selected_features])\n",
    "\n",
    "X.loc[X_train.index, selected_features] = X_train_scaled\n",
    "X.loc[X_test.index, selected_features] = X_test_scaled\n",
    "\n",
    "\n"
   ]
  },
  {
   "cell_type": "code",
   "execution_count": 7,
   "metadata": {},
   "outputs": [
    {
     "data": {
      "text/plain": [
       "artist_count          1.028629\n",
       "released_year         1.013628\n",
       "streams               1.012255\n",
       "in_apple_playlists    1.037737\n",
       "dtype: float64"
      ]
     },
     "execution_count": 7,
     "metadata": {},
     "output_type": "execute_result"
    }
   ],
   "source": [
    "X.std()"
   ]
  },
  {
   "cell_type": "code",
   "execution_count": 8,
   "metadata": {},
   "outputs": [
    {
     "data": {
      "text/plain": [
       "-0.02232481104313965"
      ]
     },
     "execution_count": 8,
     "metadata": {},
     "output_type": "execute_result"
    }
   ],
   "source": [
    "X['streams'].mean()"
   ]
  },
  {
   "cell_type": "markdown",
   "metadata": {},
   "source": [
    "# Задание 4, 5"
   ]
  },
  {
   "cell_type": "code",
   "execution_count": 9,
   "metadata": {},
   "outputs": [],
   "source": [
    "from sklearn.linear_model import LinearRegression, LogisticRegression\n",
    "from sklearn.neighbors import KNeighborsClassifier, KNeighborsRegressor\n",
    "from sklearn.tree import DecisionTreeClassifier, DecisionTreeRegressor\n",
    "from sklearn.ensemble import RandomForestClassifier, RandomForestRegressor\n",
    "\n",
    "from sklearn.linear_model import SGDRegressor\n",
    "\n",
    "from sklearn.metrics import mean_absolute_error,  mean_squared_error\n",
    "\n"
   ]
  },
  {
   "cell_type": "code",
   "execution_count": 10,
   "metadata": {},
   "outputs": [],
   "source": [
    "def getMetrics(test,predict):\n",
    "    MAE  = mean_absolute_error(test, predict)\n",
    "    print(f\"MAE: {MAE:.2f}\")\n",
    "\n",
    "    RMSE = np.sqrt(mean_squared_error(test, predict))\n",
    "    print(f\"RMSE: {RMSE:.2f}\")\n",
    "\n",
    "    MAPE = np.mean(np.abs((test - predict) / test)) * 100\n",
    "    print(f\"MAPE: {MAPE:.2f}%\")"
   ]
  },
  {
   "cell_type": "markdown",
   "metadata": {},
   "source": [
    "## тест сет"
   ]
  },
  {
   "cell_type": "markdown",
   "metadata": {},
   "source": [
    "обучить на трейне"
   ]
  },
  {
   "cell_type": "code",
   "execution_count": 13,
   "metadata": {},
   "outputs": [
    {
     "name": "stdout",
     "output_type": "stream",
     "text": [
      "––––––––Тест сет–––––––––\n",
      "MAE: 12.75\n",
      "RMSE: 15.76\n",
      "MAPE: 22.00%\n",
      "––––––––Трейн сет––––––––\n",
      "MAE: 10.96\n",
      "RMSE: 13.54\n",
      "MAPE: 18.68%\n"
     ]
    }
   ],
   "source": [
    "linClassifier  = LinearRegression();\n",
    "\n",
    "print(f\"{'Тест сет':–^25}\")\n",
    "\n",
    "\n",
    "linClassifier.fit(X_train_scaled, y_train)\n",
    "lr_pred = linClassifier.predict(X_test_scaled)\n",
    "getMetrics(y_test, lr_pred)\n",
    "\n",
    "print(f\"{'Трейн сет':–^25}\")\n",
    "linClassifier  = LinearRegression();\n",
    "linClassifier.fit(X_train_scaled, y_train)\n",
    "\n",
    "logr_pred_train = linClassifier.predict(X_train_scaled)\n",
    "\n",
    "getMetrics(y_train, logr_pred_train)\n"
   ]
  },
  {
   "cell_type": "markdown",
   "metadata": {},
   "source": [
    "## Попытки улучшить модель"
   ]
  },
  {
   "cell_type": "code",
   "execution_count": 15,
   "metadata": {},
   "outputs": [
    {
     "name": "stderr",
     "output_type": "stream",
     "text": [
      "/Users/zanuragin03/Desktop/Учеба/ML/venv/lib/python3.11/site-packages/sklearn/base.py:493: UserWarning: X does not have valid feature names, but PolynomialFeatures was fitted with feature names\n",
      "  warnings.warn(\n",
      "/Users/zanuragin03/Desktop/Учеба/ML/venv/lib/python3.11/site-packages/sklearn/base.py:493: UserWarning: X does not have valid feature names, but PolynomialFeatures was fitted with feature names\n",
      "  warnings.warn(\n",
      "/Users/zanuragin03/Desktop/Учеба/ML/venv/lib/python3.11/site-packages/sklearn/base.py:493: UserWarning: X does not have valid feature names, but PolynomialFeatures was fitted with feature names\n",
      "  warnings.warn(\n",
      "/Users/zanuragin03/Desktop/Учеба/ML/venv/lib/python3.11/site-packages/sklearn/base.py:493: UserWarning: X does not have valid feature names, but PolynomialFeatures was fitted with feature names\n",
      "  warnings.warn(\n"
     ]
    },
    {
     "name": "stdout",
     "output_type": "stream",
     "text": [
      "––––––––Степень 1––––––––\n",
      "MAE: 12.71\n",
      "RMSE: 15.63\n",
      "MAPE: 22.02%\n",
      "––––––––Степень 2––––––––\n",
      "MAE: 12.43\n",
      "RMSE: 15.45\n",
      "MAPE: 21.56%\n",
      "––––––––Степень 3––––––––\n",
      "MAE: 11.65\n",
      "RMSE: 14.64\n",
      "MAPE: 20.20%\n",
      "––––––––Степень 4––––––––\n",
      "MAE: 10.99\n",
      "RMSE: 13.97\n",
      "MAPE: 19.06%\n"
     ]
    },
    {
     "name": "stderr",
     "output_type": "stream",
     "text": [
      "/Users/zanuragin03/Desktop/Учеба/ML/venv/lib/python3.11/site-packages/sklearn/base.py:493: UserWarning: X does not have valid feature names, but PolynomialFeatures was fitted with feature names\n",
      "  warnings.warn(\n"
     ]
    },
    {
     "name": "stdout",
     "output_type": "stream",
     "text": [
      "––––––––Степень 5––––––––\n",
      "MAE: 9.96\n",
      "RMSE: 13.16\n",
      "MAPE: 17.38%\n"
     ]
    },
    {
     "name": "stderr",
     "output_type": "stream",
     "text": [
      "/Users/zanuragin03/Desktop/Учеба/ML/venv/lib/python3.11/site-packages/sklearn/base.py:493: UserWarning: X does not have valid feature names, but PolynomialFeatures was fitted with feature names\n",
      "  warnings.warn(\n"
     ]
    },
    {
     "name": "stdout",
     "output_type": "stream",
     "text": [
      "––––––––Степень 6––––––––\n",
      "MAE: 8.97\n",
      "RMSE: 12.42\n",
      "MAPE: 15.65%\n",
      "––––––––Степень 7––––––––\n",
      "MAE: 8.30\n",
      "RMSE: 11.86\n",
      "MAPE: 14.69%\n"
     ]
    },
    {
     "name": "stderr",
     "output_type": "stream",
     "text": [
      "/Users/zanuragin03/Desktop/Учеба/ML/venv/lib/python3.11/site-packages/sklearn/base.py:493: UserWarning: X does not have valid feature names, but PolynomialFeatures was fitted with feature names\n",
      "  warnings.warn(\n"
     ]
    }
   ],
   "source": [
    "from sklearn.preprocessing import PolynomialFeatures\n",
    "\n",
    "\n",
    "for power in range(1,8):\n",
    "    poly = PolynomialFeatures(degree=power);\n",
    "\n",
    "    X_poly = poly.fit_transform(X[selected_features])\n",
    "    regr = LinearRegression()\n",
    "\n",
    "    regr.fit(X_poly, Y)\n",
    "    pred = regr.predict(poly.transform(X_test_scaled))\n",
    "    print(f\"{f'Степень {power}':–^25}\")\n",
    "    getMetrics(y_test, pred)\n",
    "\n",
    "plt.show()"
   ]
  },
  {
   "cell_type": "code",
   "execution_count": null,
   "metadata": {},
   "outputs": [],
   "source": []
  },
  {
   "cell_type": "code",
   "execution_count": null,
   "metadata": {},
   "outputs": [],
   "source": []
  },
  {
   "cell_type": "code",
   "execution_count": null,
   "metadata": {},
   "outputs": [],
   "source": []
  },
  {
   "cell_type": "code",
   "execution_count": null,
   "metadata": {},
   "outputs": [],
   "source": []
  }
 ],
 "metadata": {
  "kernelspec": {
   "display_name": "venv",
   "language": "python",
   "name": "python3"
  },
  "language_info": {
   "codemirror_mode": {
    "name": "ipython",
    "version": 3
   },
   "file_extension": ".py",
   "mimetype": "text/x-python",
   "name": "python",
   "nbconvert_exporter": "python",
   "pygments_lexer": "ipython3",
   "version": "3.11.1"
  }
 },
 "nbformat": 4,
 "nbformat_minor": 2
}
