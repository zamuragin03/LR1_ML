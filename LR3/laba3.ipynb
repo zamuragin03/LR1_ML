{
 "cells": [
  {
   "cell_type": "code",
   "execution_count": 2,
   "metadata": {},
   "outputs": [],
   "source": [
    "import numpy as np\n",
    "import pandas as pd\n",
    "from sklearn.model_selection import train_test_split\n",
    "from sklearn.preprocessing import StandardScaler\n",
    "import matplotlib.pyplot as plt\n"
   ]
  },
  {
   "cell_type": "code",
   "execution_count": 3,
   "metadata": {},
   "outputs": [
    {
     "name": "stdout",
     "output_type": "stream",
     "text": [
      "track_name              816\n",
      "artist(s)_name          816\n",
      "artist_count            816\n",
      "released_year           816\n",
      "released_month          816\n",
      "released_day            816\n",
      "in_spotify_playlists    816\n",
      "in_spotify_charts       816\n",
      "streams                 816\n",
      "in_apple_playlists      816\n",
      "in_apple_charts         816\n",
      "in_deezer_playlists     816\n",
      "in_deezer_charts        816\n",
      "in_shazam_charts        816\n",
      "bpm                     816\n",
      "key                     816\n",
      "mode                    816\n",
      "danceability_%          816\n",
      "valence_%               816\n",
      "energy_%                816\n",
      "acousticness_%          816\n",
      "instrumentalness_%      816\n",
      "liveness_%              816\n",
      "speechiness_%           816\n",
      "dtype: int64\n"
     ]
    }
   ],
   "source": [
    "\n",
    "import chardet\n",
    "path = '../LR2/spotify-2023.csv'\n",
    "with open(path, 'rb') as f:\n",
    "    result = chardet.detect(f.read())\n",
    "    encoding = result['encoding']\n",
    "\n",
    "data = pd.read_csv(path, encoding=encoding)\n",
    "data = data.drop(574)\n",
    "data = data.dropna()\n",
    "print(data.count());"
   ]
  },
  {
   "cell_type": "markdown",
   "metadata": {},
   "source": [
    "# Было решено предсказывать danceability"
   ]
  },
  {
   "cell_type": "markdown",
   "metadata": {},
   "source": [
    "## Задание 2\n",
    "\n",
    "### ввиду того, что предсказываем процент danceability, то очевдно, что это задача регрессии"
   ]
  },
  {
   "cell_type": "code",
   "execution_count": 4,
   "metadata": {},
   "outputs": [
    {
     "name": "stderr",
     "output_type": "stream",
     "text": [
      "/var/folders/tf/4vf66cxs0f747m9rb3jpvyhc0000gn/T/ipykernel_93546/1403072990.py:4: SettingWithCopyWarning: \n",
      "A value is trying to be set on a copy of a slice from a DataFrame.\n",
      "Try using .loc[row_indexer,col_indexer] = value instead\n",
      "\n",
      "See the caveats in the documentation: https://pandas.pydata.org/pandas-docs/stable/user_guide/indexing.html#returning-a-view-versus-a-copy\n",
      "  X['streams']=X['streams'].astype(float)\n",
      "/var/folders/tf/4vf66cxs0f747m9rb3jpvyhc0000gn/T/ipykernel_93546/1403072990.py:5: SettingWithCopyWarning: \n",
      "A value is trying to be set on a copy of a slice from a DataFrame.\n",
      "Try using .loc[row_indexer,col_indexer] = value instead\n",
      "\n",
      "See the caveats in the documentation: https://pandas.pydata.org/pandas-docs/stable/user_guide/indexing.html#returning-a-view-versus-a-copy\n",
      "  X['artist_count']=X['artist_count'].astype(float)\n",
      "/var/folders/tf/4vf66cxs0f747m9rb3jpvyhc0000gn/T/ipykernel_93546/1403072990.py:6: SettingWithCopyWarning: \n",
      "A value is trying to be set on a copy of a slice from a DataFrame.\n",
      "Try using .loc[row_indexer,col_indexer] = value instead\n",
      "\n",
      "See the caveats in the documentation: https://pandas.pydata.org/pandas-docs/stable/user_guide/indexing.html#returning-a-view-versus-a-copy\n",
      "  X['released_year']=X['released_year'].astype(float)\n",
      "/var/folders/tf/4vf66cxs0f747m9rb3jpvyhc0000gn/T/ipykernel_93546/1403072990.py:7: SettingWithCopyWarning: \n",
      "A value is trying to be set on a copy of a slice from a DataFrame.\n",
      "Try using .loc[row_indexer,col_indexer] = value instead\n",
      "\n",
      "See the caveats in the documentation: https://pandas.pydata.org/pandas-docs/stable/user_guide/indexing.html#returning-a-view-versus-a-copy\n",
      "  X['in_apple_playlists']=X['in_apple_playlists'].astype(float)\n"
     ]
    }
   ],
   "source": [
    "selected_features = ['artist_count', 'released_year', 'streams', 'in_apple_playlists']\n",
    "target_variable = 'danceability_%'\n",
    "X = data[selected_features]\n",
    "X['streams']=X['streams'].astype(float)\n",
    "X['artist_count']=X['artist_count'].astype(float)\n",
    "X['released_year']=X['released_year'].astype(float)\n",
    "X['in_apple_playlists']=X['in_apple_playlists'].astype(float)\n",
    "Y = data[target_variable]"
   ]
  },
  {
   "cell_type": "code",
   "execution_count": 5,
   "metadata": {},
   "outputs": [],
   "source": [
    "\n",
    "X_train, X_test, y_train, y_test = train_test_split(X, Y, test_size=0.2, random_state=17)"
   ]
  },
  {
   "cell_type": "code",
   "execution_count": 6,
   "metadata": {},
   "outputs": [],
   "source": [
    "scaler = StandardScaler()\n",
    "\n",
    "X_train_scaled = scaler.fit_transform(X_train[selected_features])\n",
    "\n",
    "X_test_scaled = scaler.transform(X_test[selected_features])\n",
    "\n",
    "X.loc[X_train.index, selected_features] = X_train_scaled\n",
    "X.loc[X_test.index, selected_features] = X_test_scaled\n",
    "\n",
    "\n"
   ]
  },
  {
   "cell_type": "code",
   "execution_count": 7,
   "metadata": {},
   "outputs": [
    {
     "data": {
      "text/plain": [
       "artist_count          1.028629\n",
       "released_year         1.013628\n",
       "streams               1.012255\n",
       "in_apple_playlists    1.037737\n",
       "dtype: float64"
      ]
     },
     "execution_count": 7,
     "metadata": {},
     "output_type": "execute_result"
    }
   ],
   "source": [
    "X.std()"
   ]
  },
  {
   "cell_type": "code",
   "execution_count": 8,
   "metadata": {},
   "outputs": [
    {
     "data": {
      "text/plain": [
       "-0.02232481104313965"
      ]
     },
     "execution_count": 8,
     "metadata": {},
     "output_type": "execute_result"
    }
   ],
   "source": [
    "X['streams'].mean()"
   ]
  },
  {
   "cell_type": "markdown",
   "metadata": {},
   "source": [
    "# Задание 4, 5"
   ]
  },
  {
   "cell_type": "code",
   "execution_count": 9,
   "metadata": {},
   "outputs": [],
   "source": [
    "from sklearn.linear_model import LinearRegression, LogisticRegression\n",
    "from sklearn.neighbors import KNeighborsClassifier, KNeighborsRegressor\n",
    "from sklearn.tree import DecisionTreeClassifier, DecisionTreeRegressor\n",
    "from sklearn.ensemble import RandomForestClassifier, RandomForestRegressor\n",
    "\n",
    "from sklearn.linear_model import SGDRegressor\n",
    "\n",
    "from sklearn.metrics import mean_absolute_error,  mean_squared_error\n",
    "\n"
   ]
  },
  {
   "cell_type": "code",
   "execution_count": 10,
   "metadata": {},
   "outputs": [],
   "source": [
    "def getMetrics(test,predict):\n",
    "    MAE  = mean_absolute_error(test, predict)\n",
    "    print(f\"MAE: {MAE:.2f}\")\n",
    "\n",
    "    RMSE = np.sqrt(mean_squared_error(test, predict))\n",
    "    print(f\"RMSE: {RMSE:.2f}\")\n",
    "\n",
    "    MAPE = np.mean(np.abs((test - predict) / test)) * 100\n",
    "    print(f\"MAPE: {MAPE:.2f}%\")"
   ]
  },
  {
   "cell_type": "markdown",
   "metadata": {},
   "source": [
    "## тест сет"
   ]
  },
  {
   "cell_type": "markdown",
   "metadata": {},
   "source": [
    "обучить на трейне"
   ]
  },
  {
   "cell_type": "code",
   "execution_count": 11,
   "metadata": {},
   "outputs": [
    {
     "name": "stdout",
     "output_type": "stream",
     "text": [
      "––––––––Тест сет–––––––––\n",
      "MAE: 12.75\n",
      "RMSE: 15.76\n",
      "MAPE: 22.00%\n",
      "––––––––Трейн сет––––––––\n",
      "MAE: 10.96\n",
      "RMSE: 13.54\n",
      "MAPE: 18.68%\n"
     ]
    }
   ],
   "source": [
    "linClassifier  = LinearRegression();\n",
    "\n",
    "print(f\"{'Тест сет':–^25}\")\n",
    "\n",
    "\n",
    "linClassifier.fit(X_train_scaled, y_train)\n",
    "lr_pred = linClassifier.predict(X_test_scaled)\n",
    "getMetrics(y_test, lr_pred)\n",
    "\n",
    "print(f\"{'Трейн сет':–^25}\")\n",
    "linClassifier  = LinearRegression();\n",
    "linClassifier.fit(X_train_scaled, y_train)\n",
    "\n",
    "logr_pred_train = linClassifier.predict(X_train_scaled)\n",
    "\n",
    "getMetrics(y_train, logr_pred_train)\n"
   ]
  },
  {
   "cell_type": "code",
   "execution_count": 12,
   "metadata": {},
   "outputs": [
    {
     "name": "stdout",
     "output_type": "stream",
     "text": [
      "––––––––Тест сет–––––––––\n",
      "MAE: 12.81\n",
      "RMSE: 16.30\n",
      "MAPE: 22.08%\n",
      "––––––––Трейн сет––––––––\n",
      "MAE: 12.81\n",
      "RMSE: 16.30\n",
      "MAPE: 22.08%\n"
     ]
    }
   ],
   "source": [
    "knn_regr = KNeighborsRegressor(5)\n",
    "knn_regr.fit(X_train_scaled, y_train)\n",
    "knn_regr_pred = knn_regr.predict(X_test_scaled)\n",
    "\n",
    "print(f\"{'Тест сет':–^25}\")\n",
    "\n",
    "getMetrics(y_test, knn_regr_pred)\n",
    "\n",
    "print(f\"{'Трейн сет':–^25}\")\n",
    "\n",
    "knn_regr = KNeighborsRegressor(5)\n",
    "knn_regr.fit(X_train_scaled, y_train)\n",
    "knn_regr_pred = knn_regr.predict(X_test_scaled)\n",
    "\n",
    "getMetrics(y_test, knn_regr_pred)"
   ]
  },
  {
   "cell_type": "markdown",
   "metadata": {},
   "source": [
    "# KNN, k=10"
   ]
  },
  {
   "cell_type": "code",
   "execution_count": 13,
   "metadata": {},
   "outputs": [
    {
     "name": "stdout",
     "output_type": "stream",
     "text": [
      "––––––––Тест сет–––––––––\n",
      "MAE: 12.14\n",
      "RMSE: 15.53\n",
      "MAPE: 21.36%\n",
      "––––––––Трейн сет––––––––\n",
      "MAE: 12.14\n",
      "RMSE: 15.53\n",
      "MAPE: 21.36%\n"
     ]
    }
   ],
   "source": [
    "knn_regr = KNeighborsRegressor(10)\n",
    "knn_regr.fit(X_train_scaled, y_train)\n",
    "knn_regr_pred = knn_regr.predict(X_test_scaled)\n",
    "\n",
    "print(f\"{'Тест сет':–^25}\")\n",
    "\n",
    "getMetrics(y_test, knn_regr_pred)\n",
    "\n",
    "print(f\"{'Трейн сет':–^25}\")\n",
    "\n",
    "knn_regr = KNeighborsRegressor(10)\n",
    "knn_regr.fit(X_train_scaled, y_train)\n",
    "knn_regr_pred = knn_regr.predict(X_test_scaled)\n",
    "\n",
    "getMetrics(y_test, knn_regr_pred)"
   ]
  },
  {
   "cell_type": "code",
   "execution_count": 14,
   "metadata": {},
   "outputs": [
    {
     "name": "stdout",
     "output_type": "stream",
     "text": [
      "––––––––Тест сет–––––––––\n",
      "MAE: 13.97\n",
      "RMSE: 18.29\n",
      "MAPE: 23.21%\n",
      "––––––––Трейн сет––––––––\n",
      "MAE: 5.30\n",
      "RMSE: 8.28\n",
      "MAPE: 8.49%\n"
     ]
    }
   ],
   "source": [
    "treeRegr  = DecisionTreeRegressor(max_depth=10)\n",
    "\n",
    "\n",
    "treeRegr.fit(X_train_scaled, y_train)\n",
    "treeRegr_pred = treeRegr.predict(X_test_scaled)\n",
    "print(f\"{'Тест сет':–^25}\")\n",
    "\n",
    "getMetrics(y_test, treeRegr_pred)\n",
    "\n",
    "print(f\"{'Трейн сет':–^25}\")\n",
    "\n",
    "treeRegr  = DecisionTreeRegressor(max_depth=10)\n",
    "\n",
    "\n",
    "treeRegr.fit(X_train_scaled, y_train)\n",
    "treeRegr_pred = treeRegr.predict(X_train_scaled)\n",
    "\n",
    "getMetrics(y_train, treeRegr_pred)"
   ]
  },
  {
   "cell_type": "code",
   "execution_count": 15,
   "metadata": {},
   "outputs": [
    {
     "name": "stdout",
     "output_type": "stream",
     "text": [
      "––––––––Тест сет–––––––––\n",
      "MAE: 12.58\n",
      "RMSE: 15.82\n",
      "MAPE: 21.33%\n",
      "––––––––Трейн сет––––––––\n",
      "MAE: 4.17\n",
      "RMSE: 5.33\n",
      "MAPE: 6.99%\n"
     ]
    }
   ],
   "source": [
    "forestRegr  = RandomForestRegressor()\n",
    "\n",
    "\n",
    "forestRegr.fit(X_train_scaled, y_train)\n",
    "forestRegr_pred = forestRegr.predict(X_test_scaled);\n",
    "print(f\"{'Тест сет':–^25}\")\n",
    "\n",
    "getMetrics(y_test, forestRegr_pred)\n",
    "\n",
    "\n",
    "print(f\"{'Трейн сет':–^25}\")\n",
    "\n",
    "forestRegr  = RandomForestRegressor()\n",
    "\n",
    "\n",
    "forestRegr.fit(X_train_scaled, y_train)\n",
    "forestRegr_pred = forestRegr.predict(X_train_scaled);\n",
    "\n",
    "getMetrics(y_train, forestRegr_pred)"
   ]
  },
  {
   "cell_type": "markdown",
   "metadata": {},
   "source": [
    "## Попытки улучшить модель"
   ]
  },
  {
   "cell_type": "code",
   "execution_count": 25,
   "metadata": {},
   "outputs": [
    {
     "name": "stdout",
     "output_type": "stream",
     "text": [
      "Степень 1 для тестового множества:\n",
      "MAE: 12.75\n",
      "RMSE: 15.76\n",
      "MAPE: 22.00%\n",
      "\n",
      "Степень 1 для тренировочного множества:\n",
      "MAE: 10.96\n",
      "RMSE: 13.54\n",
      "MAPE: 18.68%\n",
      "–––––––––––––––––––––––––\n",
      "Степень 2 для тестового множества:\n",
      "MAE: 12.73\n",
      "RMSE: 15.79\n",
      "MAPE: 21.98%\n",
      "\n",
      "Степень 2 для тренировочного множества:\n",
      "MAE: 10.92\n",
      "RMSE: 13.53\n",
      "MAPE: 18.62%\n",
      "–––––––––––––––––––––––––\n",
      "Степень 3 для тестового множества:\n",
      "MAE: 13.04\n",
      "RMSE: 15.95\n",
      "MAPE: 22.64%\n",
      "\n",
      "Степень 3 для тренировочного множества:\n",
      "MAE: 11.32\n",
      "RMSE: 14.01\n",
      "MAPE: 19.45%\n",
      "–––––––––––––––––––––––––\n",
      "Степень 4 для тестового множества:\n",
      "MAE: 13.13\n",
      "RMSE: 16.05\n",
      "MAPE: 22.80%\n",
      "\n",
      "Степень 4 для тренировочного множества:\n",
      "MAE: 11.40\n",
      "RMSE: 14.10\n",
      "MAPE: 19.62%\n",
      "–––––––––––––––––––––––––\n",
      "Степень 5 для тестового множества:\n",
      "MAE: 13.69\n",
      "RMSE: 18.19\n",
      "MAPE: 23.49%\n",
      "\n",
      "Степень 5 для тренировочного множества:\n",
      "MAE: 11.45\n",
      "RMSE: 14.15\n",
      "MAPE: 19.71%\n",
      "–––––––––––––––––––––––––\n",
      "Степень 6 для тестового множества:\n",
      "MAE: 14.68\n",
      "RMSE: 27.51\n",
      "MAPE: 24.65%\n",
      "\n",
      "Степень 6 для тренировочного множества:\n",
      "MAE: 11.49\n",
      "RMSE: 14.18\n",
      "MAPE: 19.79%\n",
      "–––––––––––––––––––––––––\n",
      "Степень 7 для тестового множества:\n",
      "MAE: 16.58\n",
      "RMSE: 45.53\n",
      "MAPE: 27.01%\n",
      "\n",
      "Степень 7 для тренировочного множества:\n",
      "MAE: 11.63\n",
      "RMSE: 14.28\n",
      "MAPE: 19.96%\n",
      "–––––––––––––––––––––––––\n",
      "Степень 8 для тестового множества:\n",
      "MAE: 19.16\n",
      "RMSE: 79.86\n",
      "MAPE: 30.03%\n",
      "\n",
      "Степень 8 для тренировочного множества:\n",
      "MAE: 11.56\n",
      "RMSE: 14.22\n",
      "MAPE: 19.87%\n",
      "–––––––––––––––––––––––––\n",
      "Степень 9 для тестового множества:\n",
      "MAE: 17.89\n",
      "RMSE: 61.71\n",
      "MAPE: 28.56%\n",
      "\n",
      "Степень 9 для тренировочного множества:\n",
      "MAE: 11.59\n",
      "RMSE: 14.24\n",
      "MAPE: 19.91%\n",
      "–––––––––––––––––––––––––\n"
     ]
    }
   ],
   "source": [
    "from sklearn.preprocessing import PolynomialFeatures\n",
    "\n",
    "for power in range(1,10):\n",
    "    poly = PolynomialFeatures(degree=power)\n",
    "\n",
    "    X_train_poly = poly.fit_transform(X_train[selected_features])\n",
    "    \n",
    "    regr = LinearRegression()\n",
    "\n",
    "    regr.fit(X_train_poly, y_train)\n",
    "    X_test_poly = poly.transform(X_test[selected_features])\n",
    "    pred_test = regr.predict(X_test_poly)\n",
    "    print(f\"Степень {power} для тестового множества:\")\n",
    "    getMetrics(y_test, pred_test)\n",
    "    print()\n",
    "    pred_train = regr.predict(X_train_poly)\n",
    "    print(f\"Степень {power} для тренировочного множества:\")\n",
    "    getMetrics(y_train, pred_train)\n",
    "    \n",
    "    print(f\"{f'–':–^25}\")\n",
    "    \n"
   ]
  },
  {
   "cell_type": "markdown",
   "metadata": {},
   "source": [
    "## Оценка\n",
    "\n",
    "Самая лучшая модель оказалась KNNRegr с k=10 с абсолютной ошибкой MAPE =\n",
    " 21.36%"
   ]
  },
  {
   "cell_type": "markdown",
   "metadata": {},
   "source": []
  }
 ],
 "metadata": {
  "kernelspec": {
   "display_name": "venv",
   "language": "python",
   "name": "python3"
  },
  "language_info": {
   "codemirror_mode": {
    "name": "ipython",
    "version": 3
   },
   "file_extension": ".py",
   "mimetype": "text/x-python",
   "name": "python",
   "nbconvert_exporter": "python",
   "pygments_lexer": "ipython3",
   "version": "3.11.1"
  }
 },
 "nbformat": 4,
 "nbformat_minor": 2
}
