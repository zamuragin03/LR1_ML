{
 "cells": [
  {
   "cell_type": "code",
   "execution_count": 379,
   "metadata": {},
   "outputs": [],
   "source": [
    "import numpy as np\n",
    "import pandas as pd\n",
    "from sklearn.model_selection import train_test_split\n",
    "from sklearn.preprocessing import StandardScaler\n",
    "import matplotlib.pyplot as plt\n"
   ]
  },
  {
   "cell_type": "code",
   "execution_count": 332,
   "metadata": {},
   "outputs": [
    {
     "name": "stdout",
     "output_type": "stream",
     "text": [
      "track_name              816\n",
      "artist(s)_name          816\n",
      "artist_count            816\n",
      "released_year           816\n",
      "released_month          816\n",
      "released_day            816\n",
      "in_spotify_playlists    816\n",
      "in_spotify_charts       816\n",
      "streams                 816\n",
      "in_apple_playlists      816\n",
      "in_apple_charts         816\n",
      "in_deezer_playlists     816\n",
      "in_deezer_charts        816\n",
      "in_shazam_charts        816\n",
      "bpm                     816\n",
      "key                     816\n",
      "mode                    816\n",
      "danceability_%          816\n",
      "valence_%               816\n",
      "energy_%                816\n",
      "acousticness_%          816\n",
      "instrumentalness_%      816\n",
      "liveness_%              816\n",
      "speechiness_%           816\n",
      "dtype: int64\n"
     ]
    }
   ],
   "source": [
    "\n",
    "import chardet\n",
    "path = '../LR2/spotify-2023.csv'\n",
    "with open(path, 'rb') as f:\n",
    "    result = chardet.detect(f.read())\n",
    "    encoding = result['encoding']\n",
    "\n",
    "data = pd.read_csv(path, encoding=encoding)\n",
    "data = data.drop(574)\n",
    "data = data.dropna()\n",
    "print(data.count());"
   ]
  },
  {
   "cell_type": "markdown",
   "metadata": {},
   "source": [
    "# Было решено предсказывать danceability"
   ]
  },
  {
   "cell_type": "markdown",
   "metadata": {},
   "source": [
    "## Задание 2\n",
    "\n",
    "### ввиду того, что предсказываем процент danceability, то очевдно, что это задача регрессии"
   ]
  },
  {
   "cell_type": "code",
   "execution_count": 252,
   "metadata": {},
   "outputs": [
    {
     "name": "stderr",
     "output_type": "stream",
     "text": [
      "/var/folders/tf/4vf66cxs0f747m9rb3jpvyhc0000gn/T/ipykernel_70383/1403072990.py:4: SettingWithCopyWarning: \n",
      "A value is trying to be set on a copy of a slice from a DataFrame.\n",
      "Try using .loc[row_indexer,col_indexer] = value instead\n",
      "\n",
      "See the caveats in the documentation: https://pandas.pydata.org/pandas-docs/stable/user_guide/indexing.html#returning-a-view-versus-a-copy\n",
      "  X['streams']=X['streams'].astype(float)\n",
      "/var/folders/tf/4vf66cxs0f747m9rb3jpvyhc0000gn/T/ipykernel_70383/1403072990.py:5: SettingWithCopyWarning: \n",
      "A value is trying to be set on a copy of a slice from a DataFrame.\n",
      "Try using .loc[row_indexer,col_indexer] = value instead\n",
      "\n",
      "See the caveats in the documentation: https://pandas.pydata.org/pandas-docs/stable/user_guide/indexing.html#returning-a-view-versus-a-copy\n",
      "  X['artist_count']=X['artist_count'].astype(float)\n",
      "/var/folders/tf/4vf66cxs0f747m9rb3jpvyhc0000gn/T/ipykernel_70383/1403072990.py:6: SettingWithCopyWarning: \n",
      "A value is trying to be set on a copy of a slice from a DataFrame.\n",
      "Try using .loc[row_indexer,col_indexer] = value instead\n",
      "\n",
      "See the caveats in the documentation: https://pandas.pydata.org/pandas-docs/stable/user_guide/indexing.html#returning-a-view-versus-a-copy\n",
      "  X['released_year']=X['released_year'].astype(float)\n",
      "/var/folders/tf/4vf66cxs0f747m9rb3jpvyhc0000gn/T/ipykernel_70383/1403072990.py:7: SettingWithCopyWarning: \n",
      "A value is trying to be set on a copy of a slice from a DataFrame.\n",
      "Try using .loc[row_indexer,col_indexer] = value instead\n",
      "\n",
      "See the caveats in the documentation: https://pandas.pydata.org/pandas-docs/stable/user_guide/indexing.html#returning-a-view-versus-a-copy\n",
      "  X['in_apple_playlists']=X['in_apple_playlists'].astype(float)\n"
     ]
    }
   ],
   "source": [
    "selected_features = ['artist_count', 'released_year', 'streams', 'in_apple_playlists']\n",
    "target_variable = 'danceability_%'\n",
    "X = data[selected_features]\n",
    "X['streams']=X['streams'].astype(float)\n",
    "X['artist_count']=X['artist_count'].astype(float)\n",
    "X['released_year']=X['released_year'].astype(float)\n",
    "X['in_apple_playlists']=X['in_apple_playlists'].astype(float)\n",
    "Y = data[target_variable]"
   ]
  },
  {
   "cell_type": "code",
   "execution_count": 253,
   "metadata": {},
   "outputs": [],
   "source": [
    "\n",
    "X_train, X_test, y_train, y_test = train_test_split(X, Y, test_size=0.2, random_state=17)"
   ]
  },
  {
   "cell_type": "code",
   "execution_count": 254,
   "metadata": {},
   "outputs": [],
   "source": [
    "scaler = StandardScaler()\n",
    "\n",
    "X_train_scaled = scaler.fit_transform(X_train[selected_features])\n",
    "\n",
    "X_test_scaled = scaler.fit_transform(X_test[selected_features])\n",
    "\n",
    "X.loc[X_train.index, selected_features] = X_train_scaled\n",
    "X.loc[X_test.index, selected_features] = X_test_scaled\n",
    "\n",
    "\n"
   ]
  },
  {
   "cell_type": "code",
   "execution_count": 255,
   "metadata": {},
   "outputs": [
    {
     "data": {
      "text/plain": [
       "artist_count          1.000613\n",
       "released_year         1.000613\n",
       "streams               1.000613\n",
       "in_apple_playlists    1.000613\n",
       "dtype: float64"
      ]
     },
     "execution_count": 255,
     "metadata": {},
     "output_type": "execute_result"
    }
   ],
   "source": [
    "X.std()"
   ]
  },
  {
   "cell_type": "code",
   "execution_count": 256,
   "metadata": {},
   "outputs": [
    {
     "data": {
      "text/plain": [
       "-6.095342095981252e-17"
      ]
     },
     "execution_count": 256,
     "metadata": {},
     "output_type": "execute_result"
    }
   ],
   "source": [
    "X['streams'].mean()"
   ]
  },
  {
   "cell_type": "markdown",
   "metadata": {},
   "source": [
    "# Задание 4, 5"
   ]
  },
  {
   "cell_type": "code",
   "execution_count": 338,
   "metadata": {},
   "outputs": [],
   "source": [
    "from sklearn.linear_model import LinearRegression, LogisticRegression\n",
    "from sklearn.neighbors import KNeighborsClassifier, KNeighborsRegressor\n",
    "from sklearn.tree import DecisionTreeClassifier, DecisionTreeRegressor\n",
    "from sklearn.ensemble import RandomForestClassifier, RandomForestRegressor\n",
    "\n",
    "from sklearn.linear_model import SGDRegressor\n",
    "\n",
    "from sklearn.metrics import mean_absolute_error,  mean_squared_error\n",
    "\n"
   ]
  },
  {
   "cell_type": "code",
   "execution_count": 385,
   "metadata": {},
   "outputs": [],
   "source": [
    "def getMetrics(test,predict):\n",
    "    MAE  = mean_absolute_error(test, predict)\n",
    "    print(f\"MAE: {MAE:.2f}\")\n",
    "\n",
    "    RMSE = np.sqrt(mean_squared_error(test, predict))\n",
    "    print(f\"RMSE: {RMSE:.2f}\")\n",
    "\n",
    "    MAPE = np.mean(np.abs((test - predict) / test)) * 100\n",
    "    print(f\"MAPE: {MAPE:.2f}%\")"
   ]
  },
  {
   "cell_type": "markdown",
   "metadata": {},
   "source": [
    "## тест сет"
   ]
  },
  {
   "cell_type": "code",
   "execution_count": 386,
   "metadata": {},
   "outputs": [
    {
     "name": "stdout",
     "output_type": "stream",
     "text": [
      "––––––––Тест сет–––––––––\n",
      "MAE: 12.78\n",
      "RMSE: 15.64\n",
      "MAPE: 22.01%\n",
      "––––––––Трейн сет––––––––\n",
      "MAE: 10.97\n",
      "RMSE: 13.56\n",
      "MAPE: 18.82%\n"
     ]
    },
    {
     "name": "stderr",
     "output_type": "stream",
     "text": [
      "/Users/zanuragin03/Desktop/Учеба/ML/venv/lib/python3.11/site-packages/sklearn/base.py:493: UserWarning: X does not have valid feature names, but LinearRegression was fitted with feature names\n",
      "  warnings.warn(\n",
      "/Users/zanuragin03/Desktop/Учеба/ML/venv/lib/python3.11/site-packages/sklearn/base.py:493: UserWarning: X does not have valid feature names, but LinearRegression was fitted with feature names\n",
      "  warnings.warn(\n"
     ]
    }
   ],
   "source": [
    "linClassifier  = LinearRegression();\n",
    "\n",
    "print(f\"{'Тест сет':–^25}\")\n",
    "\n",
    "\n",
    "linClassifier.fit(X, Y)\n",
    "lr_pred = linClassifier.predict(X_test_scaled)\n",
    "getMetrics(y_test, lr_pred)\n",
    "\n",
    "print(f\"{'Трейн сет':–^25}\")\n",
    "linClassifier  = LinearRegression();\n",
    "linClassifier.fit(X, Y)\n",
    "\n",
    "logr_pred_train = linClassifier.predict(X_train_scaled)\n",
    "\n",
    "getMetrics(y_train, logr_pred_train)\n"
   ]
  },
  {
   "cell_type": "code",
   "execution_count": 387,
   "metadata": {},
   "outputs": [
    {
     "name": "stdout",
     "output_type": "stream",
     "text": [
      "MAE: 12.95\n",
      "RMSE: 17.00\n",
      "MAPE: 23.70%\n",
      "MAE: 11.60\n",
      "RMSE: 14.99\n",
      "MAPE: 20.63%\n"
     ]
    },
    {
     "name": "stderr",
     "output_type": "stream",
     "text": [
      "/Users/zanuragin03/Desktop/Учеба/ML/venv/lib/python3.11/site-packages/sklearn/base.py:493: UserWarning: X does not have valid feature names, but LogisticRegression was fitted with feature names\n",
      "  warnings.warn(\n",
      "/Users/zanuragin03/Desktop/Учеба/ML/venv/lib/python3.11/site-packages/sklearn/base.py:493: UserWarning: X does not have valid feature names, but LogisticRegression was fitted with feature names\n",
      "  warnings.warn(\n"
     ]
    }
   ],
   "source": [
    "logClassifier  = LogisticRegression()\n",
    "logClassifier.fit(X, Y)\n",
    "logr_pred = logClassifier.predict(X_test_scaled)\n",
    "\n",
    "getMetrics(y_test, logr_pred)\n",
    "\n",
    "logClassifier  = LogisticRegression()\n",
    "logClassifier.fit(X, Y)\n",
    "logr_pred = logClassifier.predict(X_train_scaled)\n",
    "getMetrics(y_train, logr_pred)\n",
    "\n"
   ]
  },
  {
   "cell_type": "code",
   "execution_count": 333,
   "metadata": {},
   "outputs": [
    {
     "name": "stdout",
     "output_type": "stream",
     "text": [
      "––––––––Тест сет–––––––––\n",
      "MAE: 8.01\n",
      "RMSE: 14.20\n",
      "MAPE: 10.37%\n",
      "––––––––Трейн сет––––––––\n",
      "MAE: 14.57\n",
      "RMSE: 19.95\n",
      "MAPE: 20.44%\n"
     ]
    },
    {
     "name": "stderr",
     "output_type": "stream",
     "text": [
      "/Users/zanuragin03/Desktop/Учеба/ML/venv/lib/python3.11/site-packages/sklearn/base.py:493: UserWarning: X does not have valid feature names, but KNeighborsClassifier was fitted with feature names\n",
      "  warnings.warn(\n",
      "/Users/zanuragin03/Desktop/Учеба/ML/venv/lib/python3.11/site-packages/sklearn/base.py:493: UserWarning: X does not have valid feature names, but KNeighborsClassifier was fitted with feature names\n",
      "  warnings.warn(\n"
     ]
    }
   ],
   "source": [
    "knn  = KNeighborsClassifier(n_neighbors=2)\n",
    "knn.fit(X, Y)\n",
    "knn_pred = knn.predict(X_test_scaled)\n",
    "print(f\"{'Тест сет':–^25}\")\n",
    "\n",
    "\n",
    "getMetrics(y_test, knn_pred)\n",
    "\n",
    "\n",
    "print(f\"{'Трейн сет':–^25}\")\n",
    "\n",
    "\n",
    "knn_pred = KNeighborsClassifier()\n",
    "knn_pred.fit(X, Y)\n",
    "\n",
    "knn_pred_train = knn_pred.predict(X_train_scaled)\n",
    "\n",
    "getMetrics(y_train, knn_pred_train)\n"
   ]
  },
  {
   "cell_type": "code",
   "execution_count": 328,
   "metadata": {},
   "outputs": [
    {
     "name": "stdout",
     "output_type": "stream",
     "text": [
      "––––––––Тест сет–––––––––\n",
      "MAE: 10.57\n",
      "RMSE: 13.34\n",
      "MAPE: 17.93%\n",
      "––––––––Трейн сет––––––––\n",
      "MAE: 10.57\n",
      "RMSE: 13.34\n",
      "MAPE: 17.93%\n"
     ]
    },
    {
     "name": "stderr",
     "output_type": "stream",
     "text": [
      "/Users/zanuragin03/Desktop/Учеба/ML/venv/lib/python3.11/site-packages/sklearn/base.py:493: UserWarning: X does not have valid feature names, but KNeighborsRegressor was fitted with feature names\n",
      "  warnings.warn(\n",
      "/Users/zanuragin03/Desktop/Учеба/ML/venv/lib/python3.11/site-packages/sklearn/base.py:493: UserWarning: X does not have valid feature names, but KNeighborsRegressor was fitted with feature names\n",
      "  warnings.warn(\n"
     ]
    }
   ],
   "source": [
    "knn_regr = KNeighborsRegressor(5)\n",
    "knn_regr.fit(X,Y)\n",
    "knn_regr_pred = knn_regr.predict(X_test_scaled)\n",
    "\n",
    "print(f\"{'Тест сет':–^25}\")\n",
    "\n",
    "getMetrics(y_test, knn_regr_pred)\n",
    "\n",
    "print(f\"{'Трейн сет':–^25}\")\n",
    "\n",
    "knn_regr = KNeighborsRegressor(5)\n",
    "knn_regr.fit(X,Y)\n",
    "knn_regr_pred = knn_regr.predict(X_test_scaled)\n",
    "\n",
    "getMetrics(y_test, knn_regr_pred)\n",
    "\n"
   ]
  },
  {
   "cell_type": "code",
   "execution_count": 326,
   "metadata": {},
   "outputs": [
    {
     "name": "stdout",
     "output_type": "stream",
     "text": [
      "––––––––Тест сет–––––––––\n",
      "MAE: 2.44\n",
      "RMSE: 7.07\n",
      "MAPE: 3.47%\n",
      "––––––––Трейн сет––––––––\n",
      "MAE: 3.04\n",
      "RMSE: 8.07\n",
      "MAPE: 4.31%\n"
     ]
    },
    {
     "name": "stderr",
     "output_type": "stream",
     "text": [
      "/Users/zanuragin03/Desktop/Учеба/ML/venv/lib/python3.11/site-packages/sklearn/base.py:493: UserWarning: X does not have valid feature names, but DecisionTreeClassifier was fitted with feature names\n",
      "  warnings.warn(\n",
      "/Users/zanuragin03/Desktop/Учеба/ML/venv/lib/python3.11/site-packages/sklearn/base.py:493: UserWarning: X does not have valid feature names, but DecisionTreeClassifier was fitted with feature names\n",
      "  warnings.warn(\n"
     ]
    }
   ],
   "source": [
    "treeClassifier  = DecisionTreeClassifier(criterion='entropy', max_depth=10)\n",
    "\n",
    "\n",
    "treeClassifier.fit(X, Y)\n",
    "tree_classifieur_pred = treeClassifier.predict(X_test_scaled)\n",
    "print(f\"{'Тест сет':–^25}\")\n",
    "\n",
    "getMetrics(y_test, tree_classifieur_pred)\n",
    "\n",
    "\n",
    "print(f\"{'Трейн сет':–^25}\")\n",
    "\n",
    "treeClassifier  = DecisionTreeClassifier(criterion='entropy', max_depth=10)\n",
    "\n",
    "\n",
    "treeClassifier.fit(X, Y)\n",
    "tree_classifieur_pred = treeClassifier.predict(X_train_scaled)\n",
    "\n",
    "getMetrics(y_train, tree_classifieur_pred)\n"
   ]
  },
  {
   "cell_type": "code",
   "execution_count": 325,
   "metadata": {},
   "outputs": [
    {
     "name": "stdout",
     "output_type": "stream",
     "text": [
      "––––––––Тест сет–––––––––\n",
      "MAE: 5.73\n",
      "RMSE: 9.01\n",
      "MAPE: 9.30%\n",
      "––––––––Трейн сет––––––––\n",
      "MAE: 5.55\n",
      "RMSE: 8.55\n",
      "MAPE: 8.96%\n"
     ]
    },
    {
     "name": "stderr",
     "output_type": "stream",
     "text": [
      "/Users/zanuragin03/Desktop/Учеба/ML/venv/lib/python3.11/site-packages/sklearn/base.py:493: UserWarning: X does not have valid feature names, but DecisionTreeRegressor was fitted with feature names\n",
      "  warnings.warn(\n",
      "/Users/zanuragin03/Desktop/Учеба/ML/venv/lib/python3.11/site-packages/sklearn/base.py:493: UserWarning: X does not have valid feature names, but DecisionTreeRegressor was fitted with feature names\n",
      "  warnings.warn(\n"
     ]
    }
   ],
   "source": [
    "treeRegr  = DecisionTreeRegressor(max_depth=10)\n",
    "\n",
    "\n",
    "treeRegr.fit(X, Y)\n",
    "treeRegr_pred = treeRegr.predict(X_test_scaled)\n",
    "print(f\"{'Тест сет':–^25}\")\n",
    "\n",
    "getMetrics(y_test, treeRegr_pred)\n",
    "\n",
    "print(f\"{'Трейн сет':–^25}\")\n",
    "\n",
    "treeRegr  = DecisionTreeRegressor(max_depth=10)\n",
    "\n",
    "\n",
    "treeRegr.fit(X, Y)\n",
    "treeRegr_pred = treeRegr.predict(X_train_scaled)\n",
    "\n",
    "getMetrics(y_train, treeRegr_pred)\n",
    "\n"
   ]
  },
  {
   "cell_type": "code",
   "execution_count": 270,
   "metadata": {},
   "outputs": [
    {
     "name": "stdout",
     "output_type": "stream",
     "text": [
      "MAE: 0.00\n",
      "RMSE: 0.00\n",
      "MAPE: 0.00%\n"
     ]
    },
    {
     "name": "stderr",
     "output_type": "stream",
     "text": [
      "/Users/zanuragin03/Desktop/Учеба/ML/venv/lib/python3.11/site-packages/sklearn/base.py:493: UserWarning: X does not have valid feature names, but RandomForestClassifier was fitted with feature names\n",
      "  warnings.warn(\n"
     ]
    }
   ],
   "source": [
    "forest_classifier  = RandomForestClassifier()\n",
    "\n",
    "\n",
    "forest_classifier.fit(X, Y)\n",
    "forest_classifier_pred = forest_classifier.predict(X_test_scaled)\n",
    "\n",
    "getMetrics(y_test, forest_classifier_pred)\n",
    "# Это странный результат..."
   ]
  },
  {
   "cell_type": "code",
   "execution_count": 324,
   "metadata": {},
   "outputs": [
    {
     "name": "stderr",
     "output_type": "stream",
     "text": [
      "/Users/zanuragin03/Desktop/Учеба/ML/venv/lib/python3.11/site-packages/sklearn/base.py:493: UserWarning: X does not have valid feature names, but RandomForestRegressor was fitted with feature names\n",
      "  warnings.warn(\n"
     ]
    },
    {
     "name": "stdout",
     "output_type": "stream",
     "text": [
      "––––––––Тест сет–––––––––\n",
      "MAE: 4.63\n",
      "RMSE: 5.96\n",
      "MAPE: 7.93%\n",
      "––––––––Трейн сет––––––––\n",
      "MAE: 4.11\n",
      "RMSE: 5.23\n",
      "MAPE: 6.98%\n"
     ]
    },
    {
     "name": "stderr",
     "output_type": "stream",
     "text": [
      "/Users/zanuragin03/Desktop/Учеба/ML/venv/lib/python3.11/site-packages/sklearn/base.py:493: UserWarning: X does not have valid feature names, but RandomForestRegressor was fitted with feature names\n",
      "  warnings.warn(\n"
     ]
    }
   ],
   "source": [
    "forestRegr  = RandomForestRegressor()\n",
    "\n",
    "\n",
    "forestRegr.fit(X, Y)\n",
    "forestRegr_pred = forestRegr.predict(X_test_scaled);\n",
    "print(f\"{'Тест сет':–^25}\")\n",
    "\n",
    "getMetrics(y_test, forestRegr_pred)\n",
    "\n",
    "\n",
    "print(f\"{'Трейн сет':–^25}\")\n",
    "\n",
    "forestRegr  = RandomForestRegressor()\n",
    "\n",
    "\n",
    "forestRegr.fit(X, Y)\n",
    "forestRegr_pred = forestRegr.predict(X_train_scaled);\n",
    "\n",
    "getMetrics(y_train, forestRegr_pred)\n"
   ]
  },
  {
   "cell_type": "markdown",
   "metadata": {},
   "source": [
    "## Попытки улучшить модель"
   ]
  },
  {
   "cell_type": "code",
   "execution_count": 394,
   "metadata": {},
   "outputs": [
    {
     "name": "stderr",
     "output_type": "stream",
     "text": [
      "/Users/zanuragin03/Desktop/Учеба/ML/venv/lib/python3.11/site-packages/sklearn/base.py:493: UserWarning: X does not have valid feature names, but PolynomialFeatures was fitted with feature names\n",
      "  warnings.warn(\n",
      "/Users/zanuragin03/Desktop/Учеба/ML/venv/lib/python3.11/site-packages/sklearn/base.py:493: UserWarning: X does not have valid feature names, but PolynomialFeatures was fitted with feature names\n",
      "  warnings.warn(\n",
      "/Users/zanuragin03/Desktop/Учеба/ML/venv/lib/python3.11/site-packages/sklearn/base.py:493: UserWarning: X does not have valid feature names, but PolynomialFeatures was fitted with feature names\n",
      "  warnings.warn(\n",
      "/Users/zanuragin03/Desktop/Учеба/ML/venv/lib/python3.11/site-packages/sklearn/base.py:493: UserWarning: X does not have valid feature names, but PolynomialFeatures was fitted with feature names\n",
      "  warnings.warn(\n"
     ]
    },
    {
     "name": "stdout",
     "output_type": "stream",
     "text": [
      "––––––––Степень 1––––––––\n",
      "MAE: 12.78\n",
      "RMSE: 15.64\n",
      "MAPE: 22.01%\n",
      "––––––––Степень 2––––––––\n",
      "MAE: 12.54\n",
      "RMSE: 15.47\n",
      "MAPE: 21.59%\n",
      "––––––––Степень 3––––––––\n",
      "MAE: 11.80\n",
      "RMSE: 14.73\n",
      "MAPE: 20.42%\n",
      "––––––––Степень 4––––––––\n",
      "MAE: 11.29\n",
      "RMSE: 14.33\n",
      "MAPE: 19.46%\n"
     ]
    },
    {
     "name": "stderr",
     "output_type": "stream",
     "text": [
      "/Users/zanuragin03/Desktop/Учеба/ML/venv/lib/python3.11/site-packages/sklearn/base.py:493: UserWarning: X does not have valid feature names, but PolynomialFeatures was fitted with feature names\n",
      "  warnings.warn(\n"
     ]
    },
    {
     "name": "stdout",
     "output_type": "stream",
     "text": [
      "––––––––Степень 5––––––––\n",
      "MAE: 10.56\n",
      "RMSE: 13.63\n",
      "MAPE: 18.26%\n"
     ]
    },
    {
     "name": "stderr",
     "output_type": "stream",
     "text": [
      "/Users/zanuragin03/Desktop/Учеба/ML/venv/lib/python3.11/site-packages/sklearn/base.py:493: UserWarning: X does not have valid feature names, but PolynomialFeatures was fitted with feature names\n",
      "  warnings.warn(\n"
     ]
    },
    {
     "name": "stdout",
     "output_type": "stream",
     "text": [
      "––––––––Степень 6––––––––\n",
      "MAE: 9.06\n",
      "RMSE: 12.29\n",
      "MAPE: 15.81%\n",
      "––––––––Степень 7––––––––\n",
      "MAE: 7.10\n",
      "RMSE: 10.28\n",
      "MAPE: 12.32%\n"
     ]
    },
    {
     "name": "stderr",
     "output_type": "stream",
     "text": [
      "/Users/zanuragin03/Desktop/Учеба/ML/venv/lib/python3.11/site-packages/sklearn/base.py:493: UserWarning: X does not have valid feature names, but PolynomialFeatures was fitted with feature names\n",
      "  warnings.warn(\n"
     ]
    }
   ],
   "source": [
    "from sklearn.preprocessing import PolynomialFeatures\n",
    "\n",
    "\n",
    "for power in range(1,8):\n",
    "    poly = PolynomialFeatures(degree=power);\n",
    "\n",
    "    X_poly = poly.fit_transform(X[selected_features])\n",
    "    regr = LinearRegression()\n",
    "\n",
    "    regr.fit(X_poly, Y)\n",
    "    pred = regr.predict(poly.transform(X_test_scaled))\n",
    "    print(f\"{f'Степень {power}':–^25}\")\n",
    "    getMetrics(y_test, pred)\n",
    "\n",
    "plt.show()"
   ]
  },
  {
   "cell_type": "code",
   "execution_count": null,
   "metadata": {},
   "outputs": [],
   "source": []
  }
 ],
 "metadata": {
  "kernelspec": {
   "display_name": "venv",
   "language": "python",
   "name": "python3"
  },
  "language_info": {
   "codemirror_mode": {
    "name": "ipython",
    "version": 3
   },
   "file_extension": ".py",
   "mimetype": "text/x-python",
   "name": "python",
   "nbconvert_exporter": "python",
   "pygments_lexer": "ipython3",
   "version": "3.11.1"
  }
 },
 "nbformat": 4,
 "nbformat_minor": 2
}
